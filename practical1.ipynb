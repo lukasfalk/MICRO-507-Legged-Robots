{
 "cells": [
  {
   "cell_type": "markdown",
   "id": "32ff19d4",
   "metadata": {},
   "source": [
    "# Derivation of Double Pendulum Equations of Motion\n",
    "<img src=\"double_pendulum.png\" align=\"left\" width=\"400\">"
   ]
  },
  {
   "cell_type": "code",
   "execution_count": null,
   "id": "631eecad",
   "metadata": {},
   "outputs": [],
   "source": [
    "#pip install numpy scipy matplotlib sympy\n",
    "#may need to install ffmpeg if you do not have it already"
   ]
  },
  {
   "cell_type": "code",
   "execution_count": null,
   "id": "77a9b804",
   "metadata": {},
   "outputs": [],
   "source": [
    "# import necessary packages\n",
    "%matplotlib notebook\n",
    "%matplotlib inline\n",
    "import numpy as np \n",
    "from scipy.integrate import odeint\n",
    "from matplotlib import animation\n",
    "from IPython.display import HTML\n",
    "import matplotlib.pyplot as plt\n",
    "from sympy import *\n",
    "init_printing(use_unicode=True)"
   ]
  },
  {
   "cell_type": "code",
   "execution_count": null,
   "id": "ad872945",
   "metadata": {},
   "outputs": [],
   "source": [
    "# Generalized coordinates \n",
    "q1, q2, dq1, dq2, ddq1, ddq2 = symbols('q1 q2 dq1 dq2 ddq1 ddq2')\n",
    "\n",
    "# System parameters\n",
    "l1, l2, m1, m2, g = symbols('l1 l2 m1 m2 g')"
   ]
  },
  {
   "cell_type": "markdown",
   "id": "82891ea3",
   "metadata": {},
   "source": [
    "## Kinematics"
   ]
  },
  {
   "cell_type": "code",
   "execution_count": null,
   "id": "0b32babd",
   "metadata": {},
   "outputs": [],
   "source": [
    "print('Position and velocity of m1:')\n",
    "x1 = \n",
    "y1 = \n",
    "dx1 = \n",
    "dy1 = \n",
    "\n",
    "print('x1:  ', x1)\n",
    "print('y1:  ', y1)\n",
    "print('dx1: ', dx1)\n",
    "print('dy1: ', dy1)"
   ]
  },
  {
   "cell_type": "code",
   "execution_count": null,
   "id": "6276cdfe",
   "metadata": {},
   "outputs": [],
   "source": [
    "print('Position and velocity of m2:')\n",
    "x2 = \n",
    "y2 = \n",
    "dx2 = \n",
    "dy2 = \n",
    "\n",
    "print('x2:  ', x2)\n",
    "print('y2:  ', y2)\n",
    "print('dx2: ', dx2)\n",
    "print('dy2: ', dy2)"
   ]
  },
  {
   "cell_type": "markdown",
   "id": "35fe8061",
   "metadata": {},
   "source": [
    "## Dynamics "
   ]
  },
  {
   "cell_type": "code",
   "execution_count": null,
   "id": "1c7fd7a5",
   "metadata": {},
   "outputs": [],
   "source": [
    "print('Kinetic and potential energies of m1:')\n",
    "T1 = \n",
    "V1 = \n",
    "T1 = simplify(T1)\n",
    "V1 = simplify(V1)\n",
    "\n",
    "print('T1: ', T1)\n",
    "print('V1: ', V1)"
   ]
  },
  {
   "cell_type": "code",
   "execution_count": null,
   "id": "2556374e",
   "metadata": {},
   "outputs": [],
   "source": [
    "print('Kinetic and potential energies of m2:')\n",
    "T2 = \n",
    "V2 = \n",
    "T2 = simplify(T2) \n",
    "V2 = simplify(V2)\n",
    "\n",
    "print('T2: ', T2)\n",
    "print('V2: ', V2)"
   ]
  },
  {
   "cell_type": "markdown",
   "id": "343e7bbb",
   "metadata": {},
   "source": [
    "## Compute Lagrangian \n",
    "Recall Lagrangian:\n",
    " $L(q, \\dot q) = T(q, \\dot q) - V(q)$\n",
    " \n",
    " Lagrange equations of motion:\n",
    " $\\frac{d}{dt}\\big(\\frac{\\partial L}{\\partial \\dot q_i }\\big) - \\frac{\\partial L}{\\partial q_i} = 0$ \n",
    "         for i = 1, 2\n"
   ]
  },
  {
   "cell_type": "code",
   "execution_count": null,
   "id": "ae393b89",
   "metadata": {},
   "outputs": [],
   "source": [
    "print('Calculate the Lagrangian of the system: ')\n",
    "T = \n",
    "T = simplify(T)\n",
    "V = \n",
    "V = simplify(V)\n",
    "L = \n",
    "\n",
    "print('L: ', L)"
   ]
  },
  {
   "cell_type": "markdown",
   "id": "b9b9b0f0",
   "metadata": {},
   "source": [
    "We use $dLddq$ as short for $\\frac{\\partial L}{\\partial \\dot q}$ and $dLdq$ \n",
    "for $\\frac{\\partial L}{\\partial q}$. "
   ]
  },
  {
   "cell_type": "code",
   "execution_count": null,
   "id": "9343a8f0",
   "metadata": {},
   "outputs": [],
   "source": [
    "# Calculate the partial derivatives of Lagrangian:\n",
    "dLddq1 = \n",
    "dLddq2 = \n",
    "dLdq1  = \n",
    "dLdq2  = \n",
    "dLddq1 = simplify(dLddq1)\n",
    "dLddq2 = simplify(dLddq2)\n",
    "dLdq1  = simplify(dLdq1)\n",
    "dLdq2  = simplify(dLdq2)"
   ]
  },
  {
   "cell_type": "markdown",
   "id": "03840aaa",
   "metadata": {},
   "source": [
    "We use dLddq_dt for $\\frac{d}{dt}\\big(\\frac{\\partial L}{\\partial \\dot q}\\big)$"
   ]
  },
  {
   "cell_type": "code",
   "execution_count": null,
   "id": "38ea4cf1",
   "metadata": {},
   "outputs": [],
   "source": [
    "dLddq1_dt = \n",
    "\n",
    "dLddq2_dt = "
   ]
  },
  {
   "cell_type": "code",
   "execution_count": null,
   "id": "a3ac60e9",
   "metadata": {},
   "outputs": [],
   "source": [
    "print('Calculate equations of motion: ')\n",
    "Eq1 = \n",
    "Eq2 = \n",
    "Eq1 = simplify(Eq1)\n",
    "Eq2 = simplify(Eq2)\n",
    "\n",
    "print('Eq1: ', Eq1)\n",
    "print('Eq2: ', Eq2)"
   ]
  },
  {
   "cell_type": "code",
   "execution_count": null,
   "id": "244c0c59",
   "metadata": {},
   "outputs": [],
   "source": [
    "# Use the \"subs\" function \n",
    "print('Calculate Mass matrix (M), Coriolis and gravity terms (C and  G):')\n",
    "G = zeros(2,1) \n",
    "G[0,0] = Eq1.subs().simplify()\n",
    "G[1,0] = \n",
    "print('-------------------------\\nG:\\n',G)\n",
    "\n",
    "M = zeros(2,2) \n",
    "M[0,0] = \n",
    "M[0,1] = \n",
    "M[1,0] = \n",
    "M[1,1] = \n",
    "M = simplify(M)\n",
    "print('-------------------------\\nM:\\n', M)\n",
    "\n",
    "C = zeros(2,2) \n",
    "C[0,0] = \n",
    "C[0,1] = \n",
    "C[1,0] = \n",
    "C[1,1] = \n",
    "C = simplify(C)\n",
    "print('-------------------------\\nC:\\n', C)"
   ]
  },
  {
   "cell_type": "code",
   "execution_count": null,
   "id": "902f6315",
   "metadata": {},
   "outputs": [],
   "source": [
    "# create M, C, G functions to evaluate at certain points\n",
    "eval_M = lambdify((l1,l2,m1,m2,q1,q2),M)\n",
    "eval_C = lambdify((dq1,dq2,l1,l2,m2,q1,q2), C)\n",
    "eval_G = lambdify((g,l1,l2,m1,m2,q1,q2), G)"
   ]
  },
  {
   "cell_type": "code",
   "execution_count": null,
   "id": "1218a68b",
   "metadata": {},
   "outputs": [],
   "source": [
    "# Define functions to get sample parameters, compute the dynamics, and get mass locations\n",
    "\n",
    "# helper functions to return mass locations (x1,y1) (x2,y2)\n",
    "eval_x1 = lambdify((q1,l1),x1)\n",
    "eval_y1 = lambdify((q1,l1),y1)\n",
    "eval_x2 = lambdify((q1,q2,l1,l2),x2) \n",
    "eval_y2 = lambdify((q1,q2,l1,l2),y2) \n",
    "\n",
    "\n",
    "def set_parameters():\n",
    "    # sample parameters\n",
    "    m1 = 1\n",
    "    m2 = 1\n",
    "    l1 = 0.5\n",
    "    l2 = 0.5\n",
    "    g = 9.81\n",
    "    return m1, m2, l1, l2, g\n",
    "\n",
    "\n",
    "def dynamics(y,t):\n",
    "    # create dynamics\n",
    "    m1, m2, l1, l2, g = set_parameters()\n",
    "\n",
    "    q  = np.array([y[0],y[1]])\n",
    "    dq = np.array([y[2],y[3]])\n",
    "\n",
    "    M = eval_M(l1,l2,m1,m2,q[0],q[1])\n",
    "    C = eval_C(dq[0],dq[1],l1,l2,m2,q[0],q[1])\n",
    "    G = eval_G(g,l1,l2,m1,m2,q[0],q[1])\n",
    "\n",
    "    dy = np.zeros(4)\n",
    "    dy[0] = y[2]\n",
    "    dy[1] = y[3]\n",
    "    dy[2:] = np.linalg.solve(M, (-C @ dq ).reshape(2,1) - G)[:,0]\n",
    "    return dy\n",
    "\n",
    "def get_x1y1_x2y2(th1,th2):\n",
    "    # get mass locations\n",
    "    _, _, l1, l2, _ = set_parameters()\n",
    "    return (eval_x1(th1,l1), \n",
    "            eval_y1(th1,l1),\n",
    "            eval_x2(th1,th2,l1,l2),\n",
    "            eval_y2(th1,th2,l1,l2))"
   ]
  },
  {
   "cell_type": "code",
   "execution_count": null,
   "id": "52518be6",
   "metadata": {},
   "outputs": [],
   "source": [
    "# create time array to evaluate dynamics\n",
    "t = np.linspace(0,10,5001)\n",
    "global dt \n",
    "dt = t[1] - t[0]\n",
    "\n",
    "# simulate from starting position\n",
    "states = odeint(dynamics, y0=[0,np.pi/2,0,0], t=t)\n",
    "\n",
    "# plot q1 and q2\n",
    "plt.plot(t, states[:,0], label=\"q1\")\n",
    "plt.plot(t, states[:,1], label=\"q2\")\n",
    "plt.xlabel('Time (s)')\n",
    "plt.legend()\n",
    "plt.show()"
   ]
  },
  {
   "cell_type": "code",
   "execution_count": null,
   "id": "19bd8ea2",
   "metadata": {},
   "outputs": [],
   "source": [
    "# animate pendulum (may take some time)\n",
    "plt.rc('animation', html='html5')\n",
    "\n",
    "fig = plt.figure()\n",
    "ax = plt.gca()\n",
    "ln1, = plt.plot([], [], 'ro-', lw=3, markersize=8)\n",
    "ax.set_xlim(-1.2,1.2)\n",
    "ax.set_ylim(-1.2,1.2)\n",
    "plt.gca().set_aspect('equal', adjustable='box')\n",
    "time_text = ax.text(0.02, 0.95, '', transform=ax.transAxes)\n",
    "\n",
    "# extract mass positions\n",
    "x1, y1, x2, y2 = get_x1y1_x2y2(states[:,0], states[:,1])\n",
    "\n",
    "def animate(i):\n",
    "    global dt\n",
    "    ln1.set_data([0,x1[i],x2[i]], [0, y1[i], y2[i]])\n",
    "    time_text.set_text('time = %.1f' % (float(i)*dt))\n",
    "    return ln1\n",
    "\n",
    "ani = animation.FuncAnimation(fig, animate, frames=len(t), interval=int(dt*1000))\n",
    "ani"
   ]
  }
 ],
 "metadata": {
  "kernelspec": {
   "display_name": "Python 3 (ipykernel)",
   "language": "python",
   "name": "python3"
  },
  "language_info": {
   "codemirror_mode": {
    "name": "ipython",
    "version": 3
   },
   "file_extension": ".py",
   "mimetype": "text/x-python",
   "name": "python",
   "nbconvert_exporter": "python",
   "pygments_lexer": "ipython3",
   "version": "3.7.13"
  }
 },
 "nbformat": 4,
 "nbformat_minor": 5
}
